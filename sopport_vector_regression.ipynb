{
 "cells": [
  {
   "cell_type": "code",
   "execution_count": null,
   "id": "9eb1bd45",
   "metadata": {},
   "outputs": [],
   "source": [
    "import pandas as pd \n",
    "df = pd.read_csv(\"insurance.csv\")\n",
    "df"
   ]
  },
  {
   "cell_type": "markdown",
   "id": "4447d0bc",
   "metadata": {},
   "source": [
    "### Data Preprocessing"
   ]
  },
  {
   "cell_type": "code",
   "execution_count": 2,
   "id": "bf65f943",
   "metadata": {},
   "outputs": [
    {
     "data": {
      "text/plain": [
       "age         0\n",
       "sex         0\n",
       "bmi         0\n",
       "children    0\n",
       "smoker      0\n",
       "region      0\n",
       "charges     0\n",
       "dtype: int64"
      ]
     },
     "execution_count": 2,
     "metadata": {},
     "output_type": "execute_result"
    }
   ],
   "source": [
    "df.isna().sum()"
   ]
  },
  {
   "cell_type": "code",
   "execution_count": 3,
   "id": "f4a77a86",
   "metadata": {},
   "outputs": [],
   "source": [
    "df['sex'] = df['sex'].replace({'male': 1, 'female': 2})\n",
    "df['smoker'] = df['smoker'].replace({'yes': 1, 'no': 0})\n",
    "df['region'] = df['region'].replace({'southwest': 1, 'southeast': 2, 'northwest': 3, 'northeast': 4})"
   ]
  },
  {
   "cell_type": "markdown",
   "id": "7cb503eb",
   "metadata": {},
   "source": [
    "### Define the Training Features and Target Variable"
   ]
  },
  {
   "cell_type": "code",
   "execution_count": 4,
   "id": "401dbc7a",
   "metadata": {},
   "outputs": [],
   "source": [
    "X = df.drop(columns = 'charges')\n",
    "y = df['charges']"
   ]
  },
  {
   "cell_type": "markdown",
   "id": "bb0ca1ae",
   "metadata": {},
   "source": [
    "### Split the Dataset into Training and Testing Portion"
   ]
  },
  {
   "cell_type": "code",
   "execution_count": 6,
   "id": "be60d0c1",
   "metadata": {},
   "outputs": [],
   "source": [
    "from sklearn.model_selection import train_test_split \n",
    "X_train, X_test, y_train, y_test = train_test_split(X, y, test_size=0.25, random_state = 21)"
   ]
  },
  {
   "cell_type": "markdown",
   "id": "d61353d8",
   "metadata": {},
   "source": [
    "### Scale the Features"
   ]
  },
  {
   "cell_type": "code",
   "execution_count": 7,
   "id": "e1abcf50",
   "metadata": {},
   "outputs": [],
   "source": [
    "from sklearn.preprocessing import StandardScaler\n",
    "scaler = StandardScaler()\n",
    "X_train_scaler = scaler.fit_transform(X_train)\n",
    "X_test_scaler = scaler.transform(X_test)"
   ]
  },
  {
   "cell_type": "markdown",
   "id": "2153cbbb",
   "metadata": {},
   "source": [
    "Sometimes I use minmax scaler as well"
   ]
  },
  {
   "cell_type": "markdown",
   "id": "9dc77068",
   "metadata": {},
   "source": [
    "### Model Training First Version"
   ]
  },
  {
   "cell_type": "code",
   "execution_count": 8,
   "id": "a82caf95",
   "metadata": {},
   "outputs": [],
   "source": [
    "from sklearn.svm import SVR\n",
    "svr = SVR().fit(X_train_scaler, y_train)"
   ]
  },
  {
   "cell_type": "markdown",
   "id": "424f7982",
   "metadata": {},
   "source": [
    "### Model Evaluation"
   ]
  },
  {
   "cell_type": "code",
   "execution_count": 9,
   "id": "26b482c3",
   "metadata": {},
   "outputs": [
    {
     "data": {
      "text/plain": [
       "-0.1786163485285006"
      ]
     },
     "execution_count": 9,
     "metadata": {},
     "output_type": "execute_result"
    }
   ],
   "source": [
    "from sklearn.metrics import r2_score\n",
    "y_pred = svr.predict(X_test_scaler)\n",
    "r2_score(y_test, y_pred)"
   ]
  },
  {
   "cell_type": "code",
   "execution_count": 10,
   "id": "b0197621",
   "metadata": {},
   "outputs": [
    {
     "data": {
      "text/plain": [
       "array([8096.98630127])"
      ]
     },
     "execution_count": 10,
     "metadata": {},
     "output_type": "execute_result"
    }
   ],
   "source": [
    "from sklearn.metrics import mean_absolute_error\n",
    "mean_absolute_error(y_test, y_pred, multioutput='raw_values')"
   ]
  },
  {
   "cell_type": "code",
   "execution_count": 11,
   "id": "653f0347",
   "metadata": {},
   "outputs": [
    {
     "data": {
      "text/plain": [
       "156514139.11462826"
      ]
     },
     "execution_count": 11,
     "metadata": {},
     "output_type": "execute_result"
    }
   ],
   "source": [
    "from sklearn.metrics import mean_squared_error\n",
    "mean_squared_error(y_test, y_pred)"
   ]
  },
  {
   "cell_type": "markdown",
   "id": "5cb4c556",
   "metadata": {},
   "source": [
    "### Model Training Second Version"
   ]
  },
  {
   "cell_type": "code",
   "execution_count": 12,
   "id": "a18d045e",
   "metadata": {},
   "outputs": [],
   "source": [
    "from sklearn.svm import SVR\n",
    "svr1 = SVR(kernel = 'linear').fit(X_train_scaler, y_train)"
   ]
  },
  {
   "cell_type": "markdown",
   "id": "a6c751da",
   "metadata": {},
   "source": [
    "### Model Evaluation"
   ]
  },
  {
   "cell_type": "code",
   "execution_count": 13,
   "id": "39b9ed1d",
   "metadata": {},
   "outputs": [
    {
     "data": {
      "text/plain": [
       "-0.09759355276155612"
      ]
     },
     "execution_count": 13,
     "metadata": {},
     "output_type": "execute_result"
    }
   ],
   "source": [
    "y_pred1 = svr1.predict(X_test_scaler)\n",
    "r2_score(y_test, y_pred1)"
   ]
  },
  {
   "cell_type": "code",
   "execution_count": 14,
   "id": "34913d38",
   "metadata": {},
   "outputs": [
    {
     "data": {
      "text/plain": [
       "array([7643.49025567])"
      ]
     },
     "execution_count": 14,
     "metadata": {},
     "output_type": "execute_result"
    }
   ],
   "source": [
    "mean_absolute_error(y_test, y_pred1, multioutput='raw_values')"
   ]
  },
  {
   "cell_type": "code",
   "execution_count": 15,
   "id": "066f8b13",
   "metadata": {},
   "outputs": [
    {
     "data": {
      "text/plain": [
       "145754731.99800703"
      ]
     },
     "execution_count": 15,
     "metadata": {},
     "output_type": "execute_result"
    }
   ],
   "source": [
    "mean_squared_error(y_test, y_pred1)"
   ]
  }
 ],
 "metadata": {
  "kernelspec": {
   "display_name": "Python 3 (ipykernel)",
   "language": "python",
   "name": "python3"
  },
  "language_info": {
   "codemirror_mode": {
    "name": "ipython",
    "version": 3
   },
   "file_extension": ".py",
   "mimetype": "text/x-python",
   "name": "python",
   "nbconvert_exporter": "python",
   "pygments_lexer": "ipython3",
   "version": "3.9.12"
  },
  "varInspector": {
   "cols": {
    "lenName": 16,
    "lenType": 16,
    "lenVar": 40
   },
   "kernels_config": {
    "python": {
     "delete_cmd_postfix": "",
     "delete_cmd_prefix": "del ",
     "library": "var_list.py",
     "varRefreshCmd": "print(var_dic_list())"
    },
    "r": {
     "delete_cmd_postfix": ") ",
     "delete_cmd_prefix": "rm(",
     "library": "var_list.r",
     "varRefreshCmd": "cat(var_dic_list()) "
    }
   },
   "types_to_exclude": [
    "module",
    "function",
    "builtin_function_or_method",
    "instance",
    "_Feature"
   ],
   "window_display": false
  }
 },
 "nbformat": 4,
 "nbformat_minor": 5
}
